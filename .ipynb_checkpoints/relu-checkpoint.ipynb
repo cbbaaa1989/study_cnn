{
 "cells": [
  {
   "cell_type": "code",
   "execution_count": 21,
   "metadata": {},
   "outputs": [],
   "source": [
    "import numpy as np\n",
    "import matplotlib.pyplot as plt"
   ]
  },
  {
   "cell_type": "code",
   "execution_count": 4,
   "metadata": {},
   "outputs": [
    {
     "name": "stdout",
     "output_type": "stream",
     "text": [
      "1\n",
      "2\n"
     ]
    }
   ],
   "source": [
    "def ReLU(x):\n",
    "    return x * (x > 0)\n",
    "\n",
    "print(ReLU(1))\n",
    "print(ReLU(2))"
   ]
  },
  {
   "cell_type": "code",
   "execution_count": 11,
   "metadata": {},
   "outputs": [
    {
     "name": "stdout",
     "output_type": "stream",
     "text": [
      "0.73105857863\n",
      "0.880797077978\n",
      "0.999954602131\n",
      "1.0\n"
     ]
    }
   ],
   "source": [
    "def sigmoid(x):\n",
    "    return 1. / (1 + np.exp(-x))\n",
    "\n",
    "print(sigmoid(1))\n",
    "print(sigmoid(2))\n",
    "print(sigmoid(10))\n",
    "print(sigmoid(100))"
   ]
  },
  {
   "cell_type": "code",
   "execution_count": 24,
   "metadata": {},
   "outputs": [
    {
     "name": "stdout",
     "output_type": "stream",
     "text": [
      "[ -1.00000000e+01  -9.80000000e+00  -9.60000000e+00  -9.40000000e+00\n",
      "  -9.20000000e+00  -9.00000000e+00  -8.80000000e+00  -8.60000000e+00\n",
      "  -8.40000000e+00  -8.20000000e+00  -8.00000000e+00  -7.80000000e+00\n",
      "  -7.60000000e+00  -7.40000000e+00  -7.20000000e+00  -7.00000000e+00\n",
      "  -6.80000000e+00  -6.60000000e+00  -6.40000000e+00  -6.20000000e+00\n",
      "  -6.00000000e+00  -5.80000000e+00  -5.60000000e+00  -5.40000000e+00\n",
      "  -5.20000000e+00  -5.00000000e+00  -4.80000000e+00  -4.60000000e+00\n",
      "  -4.40000000e+00  -4.20000000e+00  -4.00000000e+00  -3.80000000e+00\n",
      "  -3.60000000e+00  -3.40000000e+00  -3.20000000e+00  -3.00000000e+00\n",
      "  -2.80000000e+00  -2.60000000e+00  -2.40000000e+00  -2.20000000e+00\n",
      "  -2.00000000e+00  -1.80000000e+00  -1.60000000e+00  -1.40000000e+00\n",
      "  -1.20000000e+00  -1.00000000e+00  -8.00000000e-01  -6.00000000e-01\n",
      "  -4.00000000e-01  -2.00000000e-01  -3.55271368e-14   2.00000000e-01\n",
      "   4.00000000e-01   6.00000000e-01   8.00000000e-01   1.00000000e+00\n",
      "   1.20000000e+00   1.40000000e+00   1.60000000e+00   1.80000000e+00\n",
      "   2.00000000e+00   2.20000000e+00   2.40000000e+00   2.60000000e+00\n",
      "   2.80000000e+00   3.00000000e+00   3.20000000e+00   3.40000000e+00\n",
      "   3.60000000e+00   3.80000000e+00   4.00000000e+00   4.20000000e+00\n",
      "   4.40000000e+00   4.60000000e+00   4.80000000e+00   5.00000000e+00\n",
      "   5.20000000e+00   5.40000000e+00   5.60000000e+00   5.80000000e+00\n",
      "   6.00000000e+00   6.20000000e+00   6.40000000e+00   6.60000000e+00\n",
      "   6.80000000e+00   7.00000000e+00   7.20000000e+00   7.40000000e+00\n",
      "   7.60000000e+00   7.80000000e+00   8.00000000e+00   8.20000000e+00\n",
      "   8.40000000e+00   8.60000000e+00   8.80000000e+00   9.00000000e+00\n",
      "   9.20000000e+00   9.40000000e+00   9.60000000e+00   9.80000000e+00]\n"
     ]
    }
   ],
   "source": [
    "Xaxis = np.arange(-10., 10., 0.2)\n",
    "print(Xaxis)\n",
    "    #Xaxis is an one-dimensional array with 100 elements\n",
    "    #begin from -10.0 to 10.0, with interval of 0.2 for each two elements\n",
    "Yaxis = np.linspace(0, len(Xaxis), len(Xaxis))\n",
    "    #Yaxis is also an one-dimensional arry with 100 elements\n",
    "    #begin from 0 to 100"
   ]
  },
  {
   "cell_type": "code",
   "execution_count": 22,
   "metadata": {},
   "outputs": [
    {
     "data": {
      "image/png": "[encoded data removed]",
      "text/plain": [
       "<matplotlib.figure.Figure at 0x7fbdb0aee650>"
      ]
     },
     "metadata": {},
     "output_type": "display_data"
    }
   ],
   "source": [
    "plt.plot(Xaxis, Yaxis)\n",
    "plt.show()"
   ]
  },
  {
   "cell_type": "code",
   "execution_count": 26,
   "metadata": {},
   "outputs": [
    {
     "name": "stdout",
     "output_type": "stream",
     "text": [
      "[  4.53978687e-05   5.54485247e-05   6.77241496e-05   8.27172229e-05\n",
      "   1.01029194e-04   1.23394576e-04   1.50710358e-04   1.84071905e-04\n",
      "   2.24816770e-04   2.74578156e-04   3.35350130e-04   4.09567165e-04\n",
      "   5.00201107e-04   6.10879359e-04   7.46028834e-04   9.11051194e-04\n",
      "   1.11253603e-03   1.35851995e-03   1.65880108e-03   2.02532039e-03\n",
      "   2.47262316e-03   3.01841632e-03   3.68423990e-03   4.49627316e-03\n",
      "   5.48629890e-03   6.69285092e-03   8.16257115e-03   9.95180187e-03\n",
      "   1.21284350e-02   1.47740317e-02   1.79862100e-02   2.18812709e-02\n",
      "   2.65969936e-02   3.22954647e-02   3.91657228e-02   4.74258732e-02\n",
      "   5.73241759e-02   6.91384203e-02   8.31726965e-02   9.97504891e-02\n",
      "   1.19202922e-01   1.41851065e-01   1.67981615e-01   1.97816111e-01\n",
      "   2.31475217e-01   2.68941421e-01   3.10025519e-01   3.54343694e-01\n",
      "   4.01312340e-01   4.50166003e-01   5.00000000e-01   5.49833997e-01\n",
      "   5.98687660e-01   6.45656306e-01   6.89974481e-01   7.31058579e-01\n",
      "   7.68524783e-01   8.02183889e-01   8.32018385e-01   8.58148935e-01\n",
      "   8.80797078e-01   9.00249511e-01   9.16827304e-01   9.30861580e-01\n",
      "   9.42675824e-01   9.52574127e-01   9.60834277e-01   9.67704535e-01\n",
      "   9.73403006e-01   9.78118729e-01   9.82013790e-01   9.85225968e-01\n",
      "   9.87871565e-01   9.90048198e-01   9.91837429e-01   9.93307149e-01\n",
      "   9.94513701e-01   9.95503727e-01   9.96315760e-01   9.96981584e-01\n",
      "   9.97527377e-01   9.97974680e-01   9.98341199e-01   9.98641480e-01\n",
      "   9.98887464e-01   9.99088949e-01   9.99253971e-01   9.99389121e-01\n",
      "   9.99499799e-01   9.99590433e-01   9.99664650e-01   9.99725422e-01\n",
      "   9.99775183e-01   9.99815928e-01   9.99849290e-01   9.99876605e-01\n",
      "   9.99898971e-01   9.99917283e-01   9.99932276e-01   9.99944551e-01]\n"
     ]
    }
   ],
   "source": [
    "sig = np.asarray([sigmoid(x) for x in Xaxis])\n",
    "print(sig)"
   ]
  },
  {
   "cell_type": "code",
   "execution_count": 27,
   "metadata": {},
   "outputs": [
    {
     "data": {
      "image/png": "[encoded data removed]",
      "text/plain": [
       "<matplotlib.figure.Figure at 0x7fbdaea9a2d0>"
      ]
     },
     "metadata": {},
     "output_type": "display_data"
    }
   ],
   "source": [
    "plt.plot(Xaxis,sig)\n",
    "plt.show()"
   ]
  }
 ],
 "metadata": {
  "kernelspec": {
   "display_name": "tensorflow_python2",
   "language": "python",
   "name": "tensorflow_python2"
  },
  "language_info": {
   "codemirror_mode": {
    "name": "ipython",
    "version": 2
   },
   "file_extension": ".py",
   "mimetype": "text/x-python",
   "name": "python",
   "nbconvert_exporter": "python",
   "pygments_lexer": "ipython2",
   "version": "2.7.14"
  }
 },
 "nbformat": 4,
 "nbformat_minor": 2
}
